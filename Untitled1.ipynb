{
 "cells": [
  {
   "cell_type": "code",
   "execution_count": null,
   "metadata": {
    "collapsed": true
   },
   "outputs": [],
   "source": [
    "import codecs,re,os,json\n",
    "import cPickle as pickle\n",
    "\n",
    "char_dic = {}\n",
    "word_dic = {}\n",
    "def add_from_session(s):\n",
    "    global char_dic,word_dic\n",
    "    for i in s:\n",
    "        if i not in char_dic:\n",
    "            char_dic[i] = 1\n",
    "        else:\n",
    "            char_dic[i] += 1\n",
    "    for i in xrange(0,len(s)-1):\n",
    "        if (s[i],s[i+1]) not in word_dic:\n",
    "            word_dic[(s[i],s[i+1])] = 1\n",
    "        else:\n",
    "            word_dic[(s[i],s[i+1])] += 1\n",
    "\n",
    "def gen_char_binary_model():\n",
    "    global char_dic,word_dic\n",
    "    pattern = re.compile(u'[\\u4e00-\\u9fa5]+')\n",
    "    path = r'Zhihu/Text/'\n",
    "    for filename in os.listdir(path):\n",
    "        with codecs.open(path + filename,'r',encoding = 'utf-8') as f:\n",
    "            text = f.read()\n",
    "        print text[:10]\n",
    "        result = re.findall(pattern,text)\n",
    "        for w in result:\n",
    "            add_from_session(w)\n",
    "        print filename +' Done'\n",
    "        \n",
    "    print len(char_dic),len(word_dic)\n",
    "    with open(r'database/char_binary_model_with_viterbi/char_dic','w') as f:\n",
    "        pickle.dump(char_dic, f)\n",
    "    with open(r'database/char_binary_model_with_viterbi/word_dic','w') as f:\n",
    "        pickle.dump(word_dic, f)        \n",
    "\n",
    "gen_char_binary_model()"
   ]
  }
 ],
 "metadata": {
  "kernelspec": {
   "display_name": "Python 2",
   "language": "python",
   "name": "python2"
  },
  "language_info": {
   "codemirror_mode": {
    "name": "ipython",
    "version": 2
   },
   "file_extension": ".py",
   "mimetype": "text/x-python",
   "name": "python",
   "nbconvert_exporter": "python",
   "pygments_lexer": "ipython2",
   "version": "2.7.14"
  }
 },
 "nbformat": 4,
 "nbformat_minor": 2
}
