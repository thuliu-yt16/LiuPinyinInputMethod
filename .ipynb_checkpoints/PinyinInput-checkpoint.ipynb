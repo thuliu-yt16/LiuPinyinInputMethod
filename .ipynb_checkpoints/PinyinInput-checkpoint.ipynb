{
 "cells": [
  {
   "cell_type": "code",
   "execution_count": 1,
   "metadata": {},
   "outputs": [
    {
     "name": "stdout",
     "output_type": "stream",
     "text": [
      "['.2016-01.txt.swp', '2016-01.txt', '2016-02.txt', '2016-03.txt', '2016-04.txt', '2016-05.txt', '2016-06.txt', '2016-07.txt', '2016-08.txt', '2016-09.txt', '2016-10.txt', '2016-11.txt', 'README.txt', 'ytf8\\xd7\\xaagbk']\n"
     ]
    }
   ],
   "source": [
    "#coding = utf-8\n",
    "import sys,os,json,re,codecs\n",
    "path = r'sina_news'\n",
    "print os.listdir(path)"
   ]
  },
  {
   "cell_type": "code",
   "execution_count": 9,
   "metadata": {},
   "outputs": [
    {
     "name": "stdout",
     "output_type": "stream",
     "text": [
      "中国天气网讯\n"
     ]
    }
   ],
   "source": [
    "for filename in os.listdir(path):\n",
    "    with codecs.open(path+'\\\\'+filename,'r',encoding = 'UTF-8') as f:\n",
    "        lines=f.readlines()\n",
    "        for line in lines:\n",
    "            dic = json.loads(line)\n",
    "            pattern =re.compile(u\"[\\u4e00-\\u9fa5]+\")\n",
    "            result = re.findall(pattern,dic['html'])\n",
    "            for w in result:\n",
    "                print w\n",
    "            break\n",
    "    break"
   ]
  },
  {
   "cell_type": "code",
   "execution_count": null,
   "metadata": {
    "collapsed": true
   },
   "outputs": [],
   "source": []
  }
 ],
 "metadata": {
  "kernelspec": {
   "display_name": "Python 2",
   "language": "python",
   "name": "python2"
  },
  "language_info": {
   "codemirror_mode": {
    "name": "ipython",
    "version": 2
   },
   "file_extension": ".py",
   "mimetype": "text/x-python",
   "name": "python",
   "nbconvert_exporter": "python",
   "pygments_lexer": "ipython2",
   "version": "2.7.14"
  }
 },
 "nbformat": 4,
 "nbformat_minor": 2
}
